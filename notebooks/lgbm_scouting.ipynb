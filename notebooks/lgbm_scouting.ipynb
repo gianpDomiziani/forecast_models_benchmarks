{
 "cells": [
  {
   "cell_type": "code",
   "execution_count": null,
   "metadata": {},
   "outputs": [],
   "source": [
    "#https://stackoverflow.com/questions/40536560/ipython-and-jupyter-autocomplete-not-working\n",
    "%config Completer.use_jedi = False\n",
    "\n",
    "import os\n",
    "import sys\n",
    "from pathlib import Path\n",
    "\n",
    "import numpy as np\n",
    "import pandas as pd\n",
    "\n",
    "import seaborn as sns\n",
    "import matplotlib.pyplot as plt\n",
    "\n",
    "import lightgbm as lgb\n",
    "\n",
    "from IPython.display import display, Markdown, HTML, Image\n",
    "\n",
    "from IPython.core.interactiveshell import InteractiveShell\n",
    "InteractiveShell.ast_node_interactivity = 'all'"
   ]
  },
  {
   "cell_type": "markdown",
   "metadata": {},
   "source": [
    "### Data Exploration\n",
    "\n",
    "1. **calendar.csv**: contains information about the dates on which the products are sold.\n",
    "2. **sales_train_validation.csv**: contains the historical daily unit sales data per product and store [d_1 - d_1913]\n",
    "3. **sell_prices.csv**: contains information about the price of the products sold per store and date."
   ]
  },
  {
   "cell_type": "code",
   "execution_count": null,
   "metadata": {
    "pycharm": {
     "name": "#%%\n"
    }
   },
   "outputs": [],
   "source": [
    "DATA_PATH = './data'\n",
    "\n",
    "calendar = pd.read_csv(f'{DATA_PATH}/calendar.csv')\n",
    "sales_tv = pd.read_csv(f'{DATA_PATH}/sales_train_validation.csv')\n",
    "sell_prices = pd.read_csv(f'{DATA_PATH}/sell_prices.csv')\n",
    "\n",
    "ss = pd.read_csv(f'{DATA_PATH}/sample_submission.csv')\n",
    "\n",
    "calendar.shape, sales_tv.shape, sell_prices.shape"
   ]
  },
  {
   "cell_type": "code",
   "execution_count": null,
   "metadata": {},
   "outputs": [],
   "source": [
    "calendar.info()\n",
    "calendar.head()\n",
    "calendar.describe()"
   ]
  },
  {
   "cell_type": "code",
   "execution_count": null,
   "metadata": {},
   "outputs": [],
   "source": [
    "sales_tv.info()\n",
    "sales_tv.head()\n",
    "sales_tv.describe()"
   ]
  },
  {
   "cell_type": "code",
   "execution_count": null,
   "metadata": {},
   "outputs": [],
   "source": [
    "sell_prices.info()\n",
    "sell_prices.head()\n",
    "sell_prices.describe()"
   ]
  },
  {
   "cell_type": "markdown",
   "metadata": {},
   "source": [
    "### What are we trying to predict?\n",
    "We should make a forecast of sales for 28 days. For each item, the model should **predict its sales (number of unit sold per day) in the next 28 days**. \n",
    "\n",
    "1. The rows each represent a specific item. This id tells us the item type, state, and store. We don't know what these items are exactly.\n",
    "2. the columns must be fill with the predicted values (28 days head forecast)"
   ]
  },
  {
   "cell_type": "code",
   "execution_count": null,
   "metadata": {},
   "outputs": [],
   "source": [
    "# sample submission\n",
    "ss.head()"
   ]
  },
  {
   "cell_type": "markdown",
   "metadata": {},
   "source": [
    "### Merge calendar"
   ]
  },
  {
   "cell_type": "code",
   "execution_count": null,
   "metadata": {},
   "outputs": [],
   "source": [
    "calendar.shape, sales_tv.shape\n",
    "calendar.date.min(), calendar.date.max()\n",
    "calendar.head()"
   ]
  },
  {
   "cell_type": "code",
   "execution_count": null,
   "metadata": {},
   "outputs": [],
   "source": [
    "calendar.d.shape"
   ]
  },
  {
   "cell_type": "code",
   "execution_count": null,
   "metadata": {},
   "outputs": [],
   "source": [
    "date_df = calendar.loc[:, ['date', 'd']].set_index('d', drop=True)\n",
    "date_df['date'] = pd.to_datetime(date_df.date)\n",
    "date_df.info()"
   ]
  },
  {
   "cell_type": "code",
   "execution_count": null,
   "metadata": {},
   "outputs": [],
   "source": [
    "day_cols = [c for c in sales_tv.columns if c.startswith('d_')]\n",
    "sales_tv.cat_id.unique()\n",
    "sales_tv.id.is_unique\n",
    "df1 = sales_tv.loc[:, ['id', 'cat_id'] + day_cols].set_index('id', drop=True)\n",
    "df1.shape\n",
    "df1"
   ]
  },
  {
   "cell_type": "markdown",
   "metadata": {},
   "source": [
    "### Quickly visualizations"
   ]
  },
  {
   "cell_type": "code",
   "execution_count": null,
   "metadata": {},
   "outputs": [],
   "source": [
    "g1 = df1.groupby('cat_id').mean().T\n",
    "g1.head()"
   ]
  },
  {
   "cell_type": "code",
   "execution_count": null,
   "metadata": {},
   "outputs": [],
   "source": [
    "len(g1)\n",
    "df_plot = pd.merge(g1, date_df, how='left', right_index=True, left_index=True).set_index('date', drop=True)\n",
    "df_plot.shape\n",
    "df_plot.head()"
   ]
  },
  {
   "cell_type": "code",
   "execution_count": null,
   "metadata": {},
   "outputs": [],
   "source": [
    "df_weekly = df_plot.groupby(pd.Grouper(freq='W')).mean()\n",
    "df_weekly"
   ]
  },
  {
   "cell_type": "code",
   "execution_count": null,
   "metadata": {},
   "outputs": [],
   "source": [
    "cols = df_weekly.columns.to_list()\n",
    "fig, axs = plt.subplots(nrows=1, ncols=3, figsize=(9,5))\n",
    "date = df_weekly.index\n",
    "for i in range(3):\n",
    "    cols_name = cols[i]\n",
    "    axs[i].plot(date, df_weekly[cols_name], label=cols_name)\n",
    "plt.legend()\n",
    "plt.show()"
   ]
  },
  {
   "cell_type": "code",
   "execution_count": null,
   "metadata": {},
   "outputs": [],
   "source": []
  }
 ],
 "metadata": {
  "kernelspec": {
   "display_name": "Python 3 (ipykernel)",
   "language": "python",
   "name": "python3"
  },
  "language_info": {
   "codemirror_mode": {
    "name": "ipython",
    "version": 3
   },
   "file_extension": ".py",
   "mimetype": "text/x-python",
   "name": "python",
   "nbconvert_exporter": "python",
   "pygments_lexer": "ipython3",
   "version": "3.7.10"
  }
 },
 "nbformat": 4,
 "nbformat_minor": 4
}
